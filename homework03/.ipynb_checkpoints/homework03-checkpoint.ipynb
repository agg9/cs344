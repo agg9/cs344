{
 "cells": [
  {
   "cell_type": "markdown",
   "metadata": {},
   "source": [
    "1. It is not possible to simplify the network built."
   ]
  },
  {
   "cell_type": "markdown",
   "metadata": {},
   "source": [
    "Homework03 2a.  Compute the dimensions of the data structures. Include code to print these values."
   ]
  },
  {
   "cell_type": "code",
   "execution_count": 1,
   "metadata": {},
   "outputs": [
    {
     "name": "stderr",
     "output_type": "stream",
     "text": [
      "Using TensorFlow backend.\n"
     ]
    },
    {
     "name": "stdout",
     "output_type": "stream",
     "text": [
      "boston housing dataframe\n",
      "size: 7084\n",
      "rows: 506\n",
      "columns: 14.0 \n"
     ]
    }
   ],
   "source": [
    "'''\n",
    "    Homework03 for cs344 at Calvin College\n",
    "\n",
    "    @author Austin Gibson\n",
    "    @version March 27, 2019\n",
    "'''\n",
    "\n",
    "import math\n",
    "\n",
    "from IPython import display\n",
    "from matplotlib import cm\n",
    "from matplotlib import gridspec\n",
    "from matplotlib import pyplot as plt\n",
    "import numpy as np\n",
    "import pandas as pd\n",
    "from sklearn import metrics\n",
    "import tensorflow as tf\n",
    "from tensorflow.python.data import Dataset\n",
    "import numpy as np\n",
    "import pandas as pd\n",
    "\n",
    "from keras.datasets import boston_housing\n",
    "\n",
    "#(train_images, train_labels), (test_images, test_labels) = boston_housing.load_data()\n",
    "\n",
    "tf.logging.set_verbosity(tf.logging.ERROR)\n",
    "pd.options.display.max_rows = 10\n",
    "pd.options.display.float_format = '{:.1f}'.format\n",
    "\n",
    "boston_housing_dataframe = pd.read_csv(\"https://raw.githubusercontent.com/selva86/datasets/master/BostonHousing.csv\")\n",
    "\n",
    "#shuffle data\n",
    "boston_housing_dataframe = boston_housing_dataframe.reindex(\n",
    "    np.random.permutation(boston_housing_dataframe.index))\n",
    "\n",
    "# 2a.  Compute dimensions, and print values\n",
    "def print_structure_dimensions():\n",
    "    \"\"\"\n",
    "    print(\n",
    "        'training data (axes: {}; shape: {}; type: {}): \\n{}\\n\\n'.format(train_labels.ndim, train_labels.shape,\n",
    "                                                                         train_labels.dtype, train_labels)\n",
    "    )\n",
    "    print(\n",
    "        'testing data (axes: {}; shape: {}; type: {}): \\n{}\\n\\n'.format(test_labels.ndim, test_labels.shape,\n",
    "                                                                         test_labels.dtype, test_labels)\n",
    "    )\n",
    "    \"\"\"\n",
    "    print('boston housing dataframe')\n",
    "    print('size: {}'.format(boston_housing_dataframe.size))\n",
    "    print('rows: {}'.format(len(boston_housing_dataframe)))\n",
    "    columns = boston_housing_dataframe.size / len(boston_housing_dataframe)\n",
    "    print('columns: {} '.format(columns))\n",
    "print_structure_dimensions()"
   ]
  },
  {
   "cell_type": "markdown",
   "metadata": {},
   "source": [
    "2b.  Construct a suitable testing set, training set, and validation set for this data. Submit code to create these datasets but do not include the datasets themselves."
   ]
  },
  {
   "cell_type": "code",
   "execution_count": 9,
   "metadata": {},
   "outputs": [
    {
     "data": {
      "text/html": [
       "<div>\n",
       "<table border=\"1\" class=\"dataframe\">\n",
       "  <thead>\n",
       "    <tr style=\"text-align: right;\">\n",
       "      <th></th>\n",
       "      <th>medv</th>\n",
       "    </tr>\n",
       "  </thead>\n",
       "  <tbody>\n",
       "    <tr>\n",
       "      <th>count</th>\n",
       "      <td>56.0</td>\n",
       "    </tr>\n",
       "    <tr>\n",
       "      <th>mean</th>\n",
       "      <td>0.0</td>\n",
       "    </tr>\n",
       "    <tr>\n",
       "      <th>std</th>\n",
       "      <td>0.0</td>\n",
       "    </tr>\n",
       "    <tr>\n",
       "      <th>min</th>\n",
       "      <td>0.0</td>\n",
       "    </tr>\n",
       "    <tr>\n",
       "      <th>25%</th>\n",
       "      <td>0.0</td>\n",
       "    </tr>\n",
       "    <tr>\n",
       "      <th>50%</th>\n",
       "      <td>0.0</td>\n",
       "    </tr>\n",
       "    <tr>\n",
       "      <th>75%</th>\n",
       "      <td>0.0</td>\n",
       "    </tr>\n",
       "    <tr>\n",
       "      <th>max</th>\n",
       "      <td>0.1</td>\n",
       "    </tr>\n",
       "  </tbody>\n",
       "</table>\n",
       "</div>"
      ],
      "text/plain": [
       "       medv\n",
       "count  56.0\n",
       "mean    0.0\n",
       "std     0.0\n",
       "min     0.0\n",
       "25%     0.0\n",
       "50%     0.0\n",
       "75%     0.0\n",
       "max     0.1"
      ]
     },
     "execution_count": 9,
     "metadata": {},
     "output_type": "execute_result"
    }
   ],
   "source": [
    "def preprocess_features(boston_housing_dataframe):\n",
    "  \"\"\"Prepares input features from Boston Housing Dataset.\n",
    "\n",
    "  Args:\n",
    "    boston_housing_dataframe: A Pandas DataFrame expected to contain data\n",
    "      from the California housing data set.\n",
    "  Returns:\n",
    "    A DataFrame that contains the features to be used for the model, including\n",
    "    synthetic features.\n",
    "  \"\"\"\n",
    "  selected_features = boston_housing_dataframe[\n",
    "    [\"crim\",\n",
    "     \"zn\",\n",
    "     \"indus\",\n",
    "     \"chas\",\n",
    "     \"nox\",\n",
    "     \"rm\",\n",
    "     \"age\",\n",
    "     \"dis\",\n",
    "     \"rad\",\n",
    "     \"tax\",\n",
    "     \"ptratio\",\n",
    "     \"b\",\n",
    "     \"lstat\",\n",
    "     \"medv\"]]\n",
    "  processed_features = selected_features.copy()\n",
    "  # Create a synthetic feature.\n",
    "  return processed_features\n",
    "\n",
    "def preprocess_targets(boston_housing_dataframe):\n",
    "  \"\"\"Prepares target features (i.e., labels) from California housing data set.\n",
    "\n",
    "  Args:\n",
    "    boston_housing_dataframe: A Pandas DataFrame expected to contain data\n",
    "      from the California housing data set.\n",
    "  Returns:\n",
    "    A DataFrame that contains the target feature.\n",
    "  \"\"\"\n",
    "  output_targets = pd.DataFrame()\n",
    "  # Scale the target to be in units of thousands of dollars.\n",
    "  output_targets[\"medv\"] = (\n",
    "    boston_housing_dataframe[\"medv\"] / 1000.0)\n",
    "  return output_targets\n",
    "\n",
    "\n",
    "#create training and validation sets.  Dataset has 506 rows.  Training/Validation/Testing 80/10/10 split\n",
    "training_examples = preprocess_features(boston_housing_dataframe.head(404))\n",
    "training_examples.describe()\n",
    "\n",
    "training_targets = preprocess_targets(boston_housing_dataframe.head(404))\n",
    "training_targets.describe()\n",
    "\n",
    "validation_examples = preprocess_features(boston_housing_dataframe.tail(56))\n",
    "validation_examples.describe()\n",
    "\n",
    "validation_targets = preprocess_targets(boston_housing_dataframe.tail(56))\n",
    "validation_targets.describe()\n",
    "\n",
    "testing_examples = preprocess_features(boston_housing_dataframe.tail(56))\n",
    "testing_examples.describe()\n",
    "\n",
    "testing_targets = preprocess_targets(boston_housing_dataframe.tail(56))\n",
    "testing_targets.describe()"
   ]
  },
  {
   "cell_type": "markdown",
   "metadata": {},
   "source": [
    "2c. Create one new synthetic feature that could be useful for machine learning in this domain. Explain what it is and why it might be useful, and submit code to add it to the dataset."
   ]
  },
  {
   "cell_type": "code",
   "execution_count": 10,
   "metadata": {},
   "outputs": [],
   "source": [
    "boston_housing_dataframe[\"lower_pop_rooms\"] = boston_housing_dataframe[\"rm\"] * boston_housing_dataframe[\"lstat\"]"
   ]
  },
  {
   "cell_type": "markdown",
   "metadata": {},
   "source": [
    "This synthetic feature multiplies average number of rooms by the percent of lower status in the population.  I think this could be useful with the target value of median house value.  The average number of rooms gives a good estimate of house value, but doesn't really say anything about how nice the house may be.  Taking into account the percent of lower population with the average number of rooms will help the model better train for median house value."
   ]
  }
 ],
 "metadata": {
  "kernelspec": {
   "display_name": "Python 2",
   "language": "python",
   "name": "python2"
  },
  "language_info": {
   "codemirror_mode": {
    "name": "ipython",
    "version": 3
   },
   "file_extension": ".py",
   "mimetype": "text/x-python",
   "name": "python",
   "nbconvert_exporter": "python",
   "pygments_lexer": "ipython3",
   "version": "3.5.2"
  }
 },
 "nbformat": 4,
 "nbformat_minor": 1
}
