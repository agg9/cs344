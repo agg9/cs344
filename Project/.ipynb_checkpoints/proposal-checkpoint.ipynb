{
 "cells": [
  {
   "cell_type": "markdown",
   "metadata": {
    "collapsed": true
   },
   "source": [
    "Proposal.\n",
    "\n"
   ]
  },
  {
   "cell_type": "markdown",
   "metadata": {},
   "source": [
    "My project proposal is to build a neural network that will predict a baseball players performance in an upcoming game.  While a players performance may be very difficult to predict at a high percentage, I'm hoping I might have some success.  I will be using an API to retrieve data for past and upcoming games, and will be building a neural network using Keras.  "
   ]
  },
  {
   "cell_type": "markdown",
   "metadata": {},
   "source": [
    "Vision:  As someone who is interested sports, I wanted to create a model to make predictions with sports.  \n",
    "    I specifically had the idea of predicting a players performance in a game, but due to some issues \n",
    "    finding good data transitioned to predicting if a player will be inducted into the Hall of Fame."
   ]
  },
  {
   "cell_type": "markdown",
   "metadata": {},
   "source": [
    "Background:  I am settling on using a dnnregressor with tensorflow to train the model, but have experimented with several different technologies such as a linearregressors and neural networks using keras.  I also experimented with sklearn, as many of the examples I found online of sports predictions used those.  However, I decided to use tensorflow since we used that in class, and wanted to expand upon what I've learned."
   ]
  },
  {
   "cell_type": "markdown",
   "metadata": {},
   "source": [
    "Implementation:  It all begins with the data. I am getting my data from http://www.seanlahman.com/baseball-archive/statistics/ .  It has several different datasets that will be useful for this project.  I combined different tables to create a dataset which included many different statistics over a players career, including stats and awards.  From there, I used tensorflow to train the data. The implementation was based on the california_housing nerual network we used in class."
   ]
  },
  {
   "cell_type": "markdown",
   "metadata": {},
   "source": [
    "Results:  Having trouble getting the results I want out of the network still.\n",
    "\n",
    "\n",
    "Implications:  There doesn't seem to be many social or ethical implications with the technologies I've chosen for this specific project."
   ]
  }
 ],
 "metadata": {
  "kernelspec": {
   "display_name": "Python 2",
   "language": "python",
   "name": "python2"
  },
  "language_info": {
   "codemirror_mode": {
    "name": "ipython",
    "version": 3
   },
   "file_extension": ".py",
   "mimetype": "text/x-python",
   "name": "python",
   "nbconvert_exporter": "python",
   "pygments_lexer": "ipython3",
   "version": "3.5.2"
  }
 },
 "nbformat": 4,
 "nbformat_minor": 1
}
