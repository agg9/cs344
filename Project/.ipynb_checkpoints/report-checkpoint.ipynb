{
 "cells": [
  {
   "cell_type": "markdown",
   "metadata": {},
   "source": [
    "### Upgrades"
   ]
  },
  {
   "cell_type": "markdown",
   "metadata": {
    "collapsed": true
   },
   "source": [
    "Since the report walkthrough there were a few upgrades being made.  The first is that I added new columns to the dataset.  The most important being a fantasy value of the players next season.  This only works for people who had player multiple seasons before though.\n",
    "\n",
    "The second upgrade was that the output actually has information with it.  Before the output was just a list of the top values, where as now it has the players data to go along with it.  This was crucial to being able to properly handle results.\n",
    "\n",
    "Finally, the report itself wasn't very thourough, so I added a lot more into the sections needed for the final report."
   ]
  }
 ],
 "metadata": {
  "kernelspec": {
   "display_name": "Python 2",
   "language": "python",
   "name": "python2"
  },
  "language_info": {
   "codemirror_mode": {
    "name": "ipython",
    "version": 3
   },
   "file_extension": ".py",
   "mimetype": "text/x-python",
   "name": "python",
   "nbconvert_exporter": "python",
   "pygments_lexer": "ipython3",
   "version": "3.5.2"
  }
 },
 "nbformat": 4,
 "nbformat_minor": 1
}
