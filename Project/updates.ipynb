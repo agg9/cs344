{
 "cells": [
  {
   "cell_type": "markdown",
   "metadata": {},
   "source": [
    "## Updates.
     The first update made was in the dataset itself.  Since the walkthrough, I added a column in the dataset that
    has a players fantasy value for their next season.  This column only works for past season though.  This was used as the
    new target value, in hopes the network could find a link between a players past season data, and their next years
    performance.
    
    The second update was that the output now has more information.  Before, the output only had a list of the top fantasy
    values, but nothing out.  Now it has player information as well.  This is important to being able to handle and use
    output properly.
    
    Finally, I added to the different areas needed for the final report."
   ]
  }
 ],
 "metadata": {
  "kernelspec": {
   "display_name": "Python 2",
   "language": "python",
   "name": "python2"
  },
  "language_info": {
   "codemirror_mode": {
    "name": "ipython",
    "version": 2
   },
   "file_extension": ".py",
   "mimetype": "text/x-python",
   "name": "python",
   "nbconvert_exporter": "python",
   "pygments_lexer": "ipython2",
   "version": "2.7.6"
  }
 },
 "nbformat": 4,
 "nbformat_minor": 0
}
